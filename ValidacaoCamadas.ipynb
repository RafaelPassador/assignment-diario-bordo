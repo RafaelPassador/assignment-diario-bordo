{
 "cells": [
  {
   "cell_type": "code",
   "execution_count": null,
   "id": "c59c6792",
   "metadata": {},
   "outputs": [],
   "source": [
    "# Inicializa Spark com Delta\n",
    "from pyspark.sql import SparkSession\n",
    "from delta import configure_spark_with_delta_pip\n",
    "from dotenv import load_dotenv\n",
    "import os\n",
    "\n",
    "load_dotenv()\n",
    "\n",
    "builder = SparkSession.builder \\\n",
    "    .appName(\"ValidacaoCamadas\") \\\n",
    "    .config(\"spark.sql.extensions\", \"io.delta.sql.DeltaSparkSessionExtension\") \\\n",
    "    .config(\"spark.sql.catalog.spark_catalog\", \"org.apache.spark.sql.delta.catalog.DeltaCatalog\")\n",
    "\n",
    "spark = configure_spark_with_delta_pip(builder).getOrCreate()"
   ]
  },
  {
   "cell_type": "code",
   "execution_count": null,
   "id": "4fc33601",
   "metadata": {},
   "outputs": [],
   "source": [
    "# Carrega as variáveis de caminho\n",
    "SILVER_PATH = os.getenv(\"SILVER_PATH\")\n",
    "GOLD_PATH = os.getenv(\"GOLD_PATH\")"
   ]
  },
  {
   "cell_type": "code",
   "execution_count": null,
   "id": "eec304f2",
   "metadata": {},
   "outputs": [],
   "source": [
    "# Visualiza dados da camada Silver\n",
    "df_silver = spark.read.format(\"delta\").load(SILVER_PATH)\n",
    "df_silver.show(5)\n",
    "df_silver.printSchema()"
   ]
  },
  {
   "cell_type": "code",
   "execution_count": null,
   "id": "6e8d3f6f",
   "metadata": {},
   "outputs": [],
   "source": [
    "# Visualiza dados da camada Gold\n",
    "df_gold = spark.read.format(\"delta\").load(GOLD_PATH)\n",
    "df_gold.show(5)\n",
    "df_gold.printSchema()"
   ]
  }
 ],
 "metadata": {
  "kernelspec": {
   "display_name": "Python 3",
   "language": "python",
   "name": "python3"
  },
  "language_info": {
   "name": "python",
   "version": ""
  }
 },
 "nbformat": 4,
 "nbformat_minor": 5
}
